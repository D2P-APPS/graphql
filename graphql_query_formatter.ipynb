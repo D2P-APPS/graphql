{
 "cells": [
  {
   "cell_type": "code",
   "execution_count": 1,
   "metadata": {},
   "outputs": [
    {
     "data": {
      "text/plain": [
       "'{ rev1:reviews(id:1238125){ comments author{ firstName } }  rev2:reviews(id:23810849){ author{ firstName } recipient{ firstName } }  pikachu:pokemonByName(name:\"Pikachu\"){ name id types{ type{ name } } }  gyarados:pokemonByName(name:\"gyarados\"){ name id types{ type{ name } } } }'"
      ]
     },
     "execution_count": 1,
     "metadata": {},
     "output_type": "execute_result"
    }
   ],
   "source": [
    "s = \"\"\"\n",
    "{\n",
    "  rev1: reviews(id:1238125) {\n",
    "    comments\n",
    "    author {\n",
    "      firstName\n",
    "    }\n",
    "  }\n",
    "  \n",
    "  rev2: reviews(id:23810849) {\n",
    "    author{\n",
    "      firstName\n",
    "    }\n",
    "    recipient {\n",
    "      firstName\n",
    "    }\n",
    "  }\n",
    "  \n",
    "  pikachu: pokemonByName(name:\"Pikachu\") {\n",
    "    name\n",
    "    id\n",
    "    types {\n",
    "      type {\n",
    "        name\n",
    "      }\n",
    "    }\n",
    "  }\n",
    "  \n",
    "  gyarados: pokemonByName(name:\"gyarados\") {\n",
    "    name\n",
    "    id\n",
    "    types {\n",
    "      type {\n",
    "        name\n",
    "      }\n",
    "    }\n",
    "  }\n",
    "}\n",
    "\"\"\"\n",
    "\n",
    "s.replace(\" \",\"\").replace(\"\\n\",\" \").replace(\"\\t\",\"  \").strip()"
   ]
  }
 ],
 "metadata": {
  "kernelspec": {
   "display_name": "Python 3",
   "language": "python",
   "name": "python3"
  },
  "language_info": {
   "codemirror_mode": {
    "name": "ipython",
    "version": 3
   },
   "file_extension": ".py",
   "mimetype": "text/x-python",
   "name": "python",
   "nbconvert_exporter": "python",
   "pygments_lexer": "ipython3",
   "version": "3.7.6"
  }
 },
 "nbformat": 4,
 "nbformat_minor": 4
}
